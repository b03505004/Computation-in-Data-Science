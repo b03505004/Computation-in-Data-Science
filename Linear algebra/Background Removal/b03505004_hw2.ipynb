{
 "cells": [
  {
   "cell_type": "markdown",
   "metadata": {},
   "source": [
    "<h1> Libraries </h1>"
   ]
  },
  {
   "cell_type": "code",
   "execution_count": null,
   "metadata": {
    "collapsed": true
   },
   "outputs": [],
   "source": [
    "import os, sys\n",
    "import numpy as np\n",
    "from PIL import Image\n",
    "import scipy\n",
    "import moviepy.editor as mpe\n",
    "from moviepy.video.io.bindings import mplfig_to_npimage\n",
    "\n",
    "from scipy.sparse.linalg import svds\n",
    "from matplotlib import pyplot as plt\n",
    "\n",
    "%matplotlib inline\n",
    "\n",
    "np.set_printoptions(precision=4, linewidth=100)"
   ]
  },
  {
   "cell_type": "markdown",
   "metadata": {},
   "source": [
    "<h1> Functions (Create Matrix, Make Videos ...etc) </h1>"
   ]
  },
  {
   "cell_type": "code",
   "execution_count": null,
   "metadata": {
    "collapsed": true
   },
   "outputs": [],
   "source": [
    "def rgb2gray(rgb):\n",
    "    return np.dot(rgb[..., :3], [0.299, 0.587, 0.114])"
   ]
  },
  {
   "cell_type": "code",
   "execution_count": null,
   "metadata": {
    "collapsed": true
   },
   "outputs": [],
   "source": [
    "def create_data_matrix_from_images(images, scale=50):\n",
    "    return np.vstack([scipy.misc.imresize(rgb2gray(i).astype(int), scale).flatten() \n",
    "                      for i in images]).T"
   ]
  },
  {
   "cell_type": "markdown",
   "metadata": {},
   "source": [
    "turn background into black(0) and car into white(1)"
   ]
  },
  {
   "cell_type": "code",
   "execution_count": null,
   "metadata": {
    "collapsed": true
   },
   "outputs": [],
   "source": [
    "def getCar(x):\n",
    "    xShape = x.shape\n",
    "    newX = x.copy()\n",
    "    c = max(0.5,(np.mean(x[:20, :20])+ np.mean(x[:20, xShape[1]-20:]) + np.mean(x[xShape[0]-20:, :20])+ np.mean(x[xShape[0]-20:,xShape[1]-20:]))/4)\n",
    "    for i in range(xShape[0]):\n",
    "        for j in range(xShape[1]):\n",
    "            if abs(x[i][j]-c) < abs(40*c):\n",
    "                newX[i][j] = 0\n",
    "            else:\n",
    "                newX[i][j] = 1\n",
    "    return newX\n",
    "\n",
    "def getCar2(x):\n",
    "    xShape = x.shape\n",
    "    c = max(0.5,(np.mean(x[:20, :20])+ np.mean(x[:20, xShape[1]-20:]) + np.mean(x[xShape[0]-20:, :20])+ np.mean(x[xShape[0]-20:,xShape[1]-20:]))/4)\n",
    "    return np.where(abs(x-c)<abs(40*c), 0.0, 1.0)"
   ]
  },
  {
   "cell_type": "code",
   "execution_count": null,
   "metadata": {
    "collapsed": true
   },
   "outputs": [],
   "source": [
    "def makeVideoFromImgs(videoName, frames, firstAsTime):\n",
    "    fig, ax = plt.subplots()\n",
    "    fps = 50\n",
    "    def make_frame(t):\n",
    "        ax.clear()\n",
    "        ax.axis('off')\n",
    "        ax.set_adjustable('box-forced')\n",
    "        if firstAsTime:\n",
    "            ax.imshow(frames[int(t*fps), ...], cmap=\"gray\")\n",
    "        else:\n",
    "            ax.imshow(frames[..., int(t*fps)], cmap=\"gray\")\n",
    "        return mplfig_to_npimage(fig)\n",
    "    if firstAsTime:\n",
    "        animation = mpe.VideoClip(make_frame, duration=int(frames.shape[0]/fps))\n",
    "    else:\n",
    "        animation = mpe.VideoClip(make_frame, duration=int(frames.shape[-1]/fps))\n",
    "    animation.write_videofile('./'+videoName+'.mp4', fps=fps)"
   ]
  },
  {
   "cell_type": "markdown",
   "metadata": {},
   "source": [
    "dice coefficient of truth and target images"
   ]
  },
  {
   "cell_type": "code",
   "execution_count": null,
   "metadata": {
    "collapsed": true
   },
   "outputs": [],
   "source": [
    "def diceCoef(truth, inp):\n",
    "    total = 0;\n",
    "    intersect = 0\n",
    "    for i in range(len(truth)):\n",
    "        inpWhite = np.sum(inp[i, ...])\n",
    "        truthWhite = len(np.where(truth[i]==255.0)[0])\n",
    "        inters = len(np.where(truth[i]+inp[i,...]==256)[0])\n",
    "        total += inpWhite + truthWhite\n",
    "        intersect += inters\n",
    "        #print(inpWhite, truthWhite, inters)\n",
    "    return 2*intersect/total"
   ]
  },
  {
   "cell_type": "markdown",
   "metadata": {},
   "source": [
    "# Video 1"
   ]
  },
  {
   "cell_type": "markdown",
   "metadata": {},
   "source": [
    "http://bmc.iut-auvergne.com/?page_id=24"
   ]
  },
  {
   "cell_type": "markdown",
   "metadata": {},
   "source": [
    "111, PNG files with ground truth"
   ]
  },
  {
   "cell_type": "markdown",
   "metadata": {},
   "source": [
    "# Read Images"
   ]
  },
  {
   "cell_type": "code",
   "execution_count": null,
   "metadata": {},
   "outputs": [],
   "source": [
    "imgs = []\n",
    "for imgName in range(1,1500):\n",
    "    temp = np.array(Image.open(\"./dataset/video1/input/\"+str(imgName)+\".png\"))\n",
    "    imgs.append(temp)\n",
    "    \n",
    "imgs[0].shape"
   ]
  },
  {
   "cell_type": "markdown",
   "metadata": {},
   "source": [
    "scale images and stack them"
   ]
  },
  {
   "cell_type": "code",
   "execution_count": null,
   "metadata": {},
   "outputs": [],
   "source": [
    "scale = 100\n",
    "fps = 50\n",
    "original_width = imgs[0].shape[0]\n",
    "original_height = imgs[0].shape[1]\n",
    "\n",
    "dims = (int(original_width * scale / 100), int(original_height * scale / 100))\n",
    "print(\"Scale every frame to {d[1]} * {d[0]}\".format(d=dims))\n",
    "\n",
    "stackIMG = create_data_matrix_from_images(imgs, scale)\n",
    "imgs = 0\n",
    "stackIMG.shape, dims"
   ]
  },
  {
   "cell_type": "code",
   "execution_count": null,
   "metadata": {
    "collapsed": true
   },
   "outputs": [],
   "source": [
    "plt.axis('off')\n",
    "plt.imshow(np.reshape(stackIMG[:, 1442], dims), cmap='gray');"
   ]
  },
  {
   "cell_type": "markdown",
   "metadata": {},
   "source": [
    "original matrix"
   ]
  },
  {
   "cell_type": "code",
   "execution_count": null,
   "metadata": {
    "collapsed": true,
    "scrolled": true
   },
   "outputs": [],
   "source": [
    "plt.figure(figsize=(120, 120))\n",
    "plt.axis('off')\n",
    "plt.imshow(stackIMG[:halfIndex, :], cmap='gray')"
   ]
  },
  {
   "cell_type": "code",
   "execution_count": null,
   "metadata": {
    "collapsed": true
   },
   "outputs": [],
   "source": [
    "plt.figure(figsize=(120, 120))\n",
    "plt.axis('off')\n",
    "plt.imshow(stackIMG[halfIndex:, :], cmap='gray')"
   ]
  },
  {
   "cell_type": "markdown",
   "metadata": {},
   "source": [
    "# Background Removal of Video 1"
   ]
  },
  {
   "cell_type": "markdown",
   "metadata": {},
   "source": [
    "SVD"
   ]
  },
  {
   "cell_type": "code",
   "execution_count": null,
   "metadata": {},
   "outputs": [],
   "source": [
    "stackIMG = stackIMG.astype(float)\n",
    "U, Sigma, Vt = svds(stackIMG, k=1)\n",
    "\n",
    "U.shape, Sigma.shape, Vt.shape"
   ]
  },
  {
   "cell_type": "code",
   "execution_count": null,
   "metadata": {
    "collapsed": true,
    "scrolled": true
   },
   "outputs": [],
   "source": [
    "low_rank = U @ np.diag(Sigma) @ Vt\n",
    "U = []\n",
    "Sigma = []\n",
    "Vt = []\n",
    "#stackIMG = []\n",
    "#plt.axis('off')\n",
    "#plt.imshow(np.reshape(low_rank[:, 1442], dims), cmap='gray')"
   ]
  },
  {
   "cell_type": "code",
   "execution_count": null,
   "metadata": {
    "collapsed": true
   },
   "outputs": [],
   "source": [
    "low_rank.shape"
   ]
  },
  {
   "cell_type": "markdown",
   "metadata": {},
   "source": [
    "low rank matrix"
   ]
  },
  {
   "cell_type": "code",
   "execution_count": null,
   "metadata": {
    "collapsed": true
   },
   "outputs": [],
   "source": [
    "plt.figure(figsize=(120, 120))\n",
    "plt.axis('off')\n",
    "halfIndex = int(low_rank.shape[0]/2)\n",
    "plt.imshow(low_rank[:halfIndex, :], cmap='gray');"
   ]
  },
  {
   "cell_type": "code",
   "execution_count": null,
   "metadata": {
    "collapsed": true
   },
   "outputs": [],
   "source": [
    "plt.figure(figsize=(120, 120))\n",
    "plt.axis('off')\n",
    "plt.imshow(low_rank[halfIndex:, :], cmap='gray')"
   ]
  },
  {
   "cell_type": "code",
   "execution_count": null,
   "metadata": {
    "collapsed": true
   },
   "outputs": [],
   "source": [
    "car = stackIMG - low_rank\n",
    "#low_rank = []\n",
    "#stackIMG = []"
   ]
  },
  {
   "cell_type": "code",
   "execution_count": null,
   "metadata": {},
   "outputs": [],
   "source": [
    "plt.axis('off')\n",
    "plt.imshow(np.reshape(low_rank[:, 1300], dims), cmap='gray')"
   ]
  },
  {
   "cell_type": "markdown",
   "metadata": {},
   "source": [
    "car matrix"
   ]
  },
  {
   "cell_type": "code",
   "execution_count": null,
   "metadata": {
    "collapsed": true
   },
   "outputs": [],
   "source": [
    "plt.figure(figsize=(120, 120))\n",
    "plt.axis(\"off\")\n",
    "halfIndex = int(car.shape[0]/2)\n",
    "plt.imshow(car[:halfIndex, :], cmap='gray');"
   ]
  },
  {
   "cell_type": "code",
   "execution_count": null,
   "metadata": {
    "collapsed": true
   },
   "outputs": [],
   "source": [
    "plt.figure(figsize=(120, 120))\n",
    "plt.axis(\"off\")\n",
    "plt.imshow(car[halfIndex:, :], cmap='gray');"
   ]
  },
  {
   "cell_type": "code",
   "execution_count": null,
   "metadata": {
    "collapsed": true
   },
   "outputs": [],
   "source": [
    "plt.imshow(np.reshape(car[:, 0], dims), cmap='gray');"
   ]
  },
  {
   "cell_type": "markdown",
   "metadata": {},
   "source": [
    "# Evaluation of Video1"
   ]
  },
  {
   "cell_type": "markdown",
   "metadata": {},
   "source": [
    "get ground truth"
   ]
  },
  {
   "cell_type": "code",
   "execution_count": null,
   "metadata": {
    "collapsed": true
   },
   "outputs": [],
   "source": [
    "truth = []\n",
    "for imgName in range(1,1500):\n",
    "    temp = scipy.misc.imresize(rgb2gray(np.array(Image.open(\"./dataset/video1/truth/\"+str(imgName)+\".png\"))), scale)\n",
    "    truth.append(temp)\n",
    "truth[0].shape"
   ]
  },
  {
   "cell_type": "code",
   "execution_count": null,
   "metadata": {},
   "outputs": [],
   "source": [
    "car_eval = car.reshape(dims + (-1,))\n",
    "car.shape, car_eval.shape"
   ]
  },
  {
   "cell_type": "code",
   "execution_count": null,
   "metadata": {
    "collapsed": true
   },
   "outputs": [],
   "source": [
    "x = car_eval[...,1442]\n",
    "\n",
    "plt.axis(\"off\")\n",
    "plt.imshow(x, cmap='gray');"
   ]
  },
  {
   "cell_type": "markdown",
   "metadata": {},
   "source": [
    "getCar2 is faster"
   ]
  },
  {
   "cell_type": "code",
   "execution_count": null,
   "metadata": {
    "collapsed": true
   },
   "outputs": [],
   "source": [
    "%timeit  newX = getCar(x)\n",
    "%timeit  newX = getCar2(x)\n",
    "np.array_equal(getCar(x), getCar2(x))"
   ]
  },
  {
   "cell_type": "code",
   "execution_count": null,
   "metadata": {},
   "outputs": [],
   "source": [
    "plt.axis(\"off\")\n",
    "plt.imshow(getCar2(car_eval[...,1300]), cmap='gray')"
   ]
  },
  {
   "cell_type": "markdown",
   "metadata": {},
   "source": [
    "turn all images into black and white"
   ]
  },
  {
   "cell_type": "code",
   "execution_count": null,
   "metadata": {
    "scrolled": true
   },
   "outputs": [],
   "source": [
    "newCarEval = []\n",
    "for i in range(0,car_eval.shape[-1]):\n",
    "    temp = car_eval[..., i]\n",
    "    newCarEval.append(getCar2(temp))\n",
    "#car_eval = []\n",
    "#temp = []\n",
    "#truth = []\n",
    "#car = []\n",
    "newCarEval = np.array(newCarEval)\n",
    "plt.axis(\"off\")\n",
    "plt.imshow(newCarEval[750, ...], cmap='gray')\n",
    "newCarEval.shape"
   ]
  },
  {
   "cell_type": "markdown",
   "metadata": {},
   "source": [
    "get dice coefficient"
   ]
  },
  {
   "cell_type": "code",
   "execution_count": null,
   "metadata": {
    "collapsed": true,
    "scrolled": true
   },
   "outputs": [],
   "source": [
    "diceCoef(truth, newCarEval)"
   ]
  },
  {
   "cell_type": "markdown",
   "metadata": {},
   "source": [
    "make black and white video"
   ]
  },
  {
   "cell_type": "code",
   "execution_count": null,
   "metadata": {
    "scrolled": false
   },
   "outputs": [],
   "source": [
    "makeVideoFromImgs('video1_black_white', newCarEval, firstAsTime=True)"
   ]
  },
  {
   "cell_type": "markdown",
   "metadata": {},
   "source": [
    "evaluate different scale & different k of dice coefficient"
   ]
  },
  {
   "cell_type": "code",
   "execution_count": null,
   "metadata": {
    "collapsed": true
   },
   "outputs": [],
   "source": [
    "#for scale in [100]:\n",
    "for scale in [10,25,50,75,100]:\n",
    "    fps = 50\n",
    "    original_width = imgs[0].shape[0]\n",
    "    original_height = imgs[0].shape[1]\n",
    "    dims = (int(original_width * scale / 100), int(original_height * scale / 100))\n",
    "    stackIMG = create_data_matrix_from_images(imgs, scale)\n",
    "    stackIMG = stackIMG.astype(float)\n",
    "    truth = []\n",
    "    for imgName in range(1,1500):\n",
    "        temp = scipy.misc.imresize(rgb2gray(np.array(Image.open(\"./dataset/video1/truth/\"+str(imgName)+\".png\"))), scale)\n",
    "        truth.append(temp)\n",
    "    print(dims)\n",
    "    print(\"______________________________________________\")\n",
    "    for kk in range(2,8):\n",
    "        U, Sigma, Vt = svds(stackIMG, k=kk)\n",
    "        low_rank = U @ np.diag(Sigma) @ Vt\n",
    "        U = []\n",
    "        Sigma = []\n",
    "        Vt = []\n",
    "        car = stackIMG - low_rank\n",
    "        low_rank = []\n",
    "        car_eval = car.reshape(dims + (-1,))\n",
    "        car = []\n",
    "        newCarEval = []\n",
    "        for i in range(0,car_eval.shape[-1]):\n",
    "            temp = car_eval[..., i]\n",
    "            newCarEval.append(getCar2(temp))\n",
    "        car_eval = []\n",
    "        temp = []\n",
    "        newCarEval = np.array(newCarEval)\n",
    "        print(diceCoef(truth, newCarEval))"
   ]
  },
  {
   "cell_type": "markdown",
   "metadata": {},
   "source": [
    "# Make Video 1"
   ]
  },
  {
   "cell_type": "code",
   "execution_count": null,
   "metadata": {
    "scrolled": true
   },
   "outputs": [],
   "source": [
    "car_frames = car.reshape(dims + (-1,))\n",
    "car_frames.shape"
   ]
  },
  {
   "cell_type": "code",
   "execution_count": null,
   "metadata": {},
   "outputs": [],
   "source": [
    "videoName = 'video1'\n",
    "makeVideoFromImgs(videoName, car_frames, firstAsTime=False)"
   ]
  },
  {
   "cell_type": "code",
   "execution_count": null,
   "metadata": {
    "collapsed": true
   },
   "outputs": [],
   "source": [
    "video1 = mpe.VideoFileClip(\"./video1.mp4\")\n",
    "video1.ipython_display(width=500)"
   ]
  },
  {
   "cell_type": "markdown",
   "metadata": {},
   "source": [
    " "
   ]
  },
  {
   "cell_type": "markdown",
   "metadata": {},
   "source": [
    " \n"
   ]
  },
  {
   "cell_type": "markdown",
   "metadata": {},
   "source": [
    "# Video 2"
   ]
  },
  {
   "cell_type": "markdown",
   "metadata": {},
   "source": [
    "http://bmc.iut-auvergne.com/?page_id=24"
   ]
  },
  {
   "cell_type": "markdown",
   "metadata": {},
   "source": [
    "121, PNG files with ground truth"
   ]
  },
  {
   "cell_type": "markdown",
   "metadata": {},
   "source": [
    "# Read Images"
   ]
  },
  {
   "cell_type": "code",
   "execution_count": null,
   "metadata": {
    "collapsed": true
   },
   "outputs": [],
   "source": [
    "imgs = []\n",
    "for imgName in range(1,1500):\n",
    "    imgs.append(np.array(Image.open(\"./dataset/video2/input/\"+str(imgName)+\".png\")))"
   ]
  },
  {
   "cell_type": "code",
   "execution_count": null,
   "metadata": {},
   "outputs": [],
   "source": [
    "scale = 100\n",
    "fps = 50\n",
    "original_width = imgs[0].shape[0]\n",
    "original_height = imgs[0].shape[1]\n",
    "\n",
    "dims = (int(original_width * scale / 100), int(original_height * scale / 100))\n",
    "print(\"Scale every frame to {d[1]} * {d[0]}\".format(d=dims))\n",
    "\n",
    "stackIMG = create_data_matrix_from_images(imgs, scale)\n",
    "imgs = 0\n",
    "stackIMG.shape, dims"
   ]
  },
  {
   "cell_type": "code",
   "execution_count": null,
   "metadata": {
    "collapsed": true
   },
   "outputs": [],
   "source": [
    "#plt.axis('off')\n",
    "plt.imshow(np.reshape(stackIMG[:, 1442], dims), cmap='gray');"
   ]
  },
  {
   "cell_type": "code",
   "execution_count": null,
   "metadata": {
    "collapsed": true
   },
   "outputs": [],
   "source": [
    "plt.figure(figsize=(60, 60))\n",
    "plt.axis('off')\n",
    "plt.imshow(stackIMG, cmap='gray')"
   ]
  },
  {
   "cell_type": "markdown",
   "metadata": {},
   "source": [
    "# Background Removal of Video 2"
   ]
  },
  {
   "cell_type": "code",
   "execution_count": null,
   "metadata": {
    "collapsed": true
   },
   "outputs": [],
   "source": [
    "stackIMG = stackIMG.astype(float)\n",
    "U, Sigma, Vt = svds(stackIMG, k=4)\n",
    "U.shape, Sigma.shape, Vt.shape"
   ]
  },
  {
   "cell_type": "code",
   "execution_count": null,
   "metadata": {
    "collapsed": true
   },
   "outputs": [],
   "source": [
    "low_rank = U @ np.diag(Sigma) @ Vt"
   ]
  },
  {
   "cell_type": "code",
   "execution_count": null,
   "metadata": {
    "collapsed": true
   },
   "outputs": [],
   "source": [
    "plt.axis('off')\n",
    "plt.imshow(np.reshape(low_rank[:, 1442], dims), cmap='gray');"
   ]
  },
  {
   "cell_type": "markdown",
   "metadata": {},
   "source": [
    "low rank matrix"
   ]
  },
  {
   "cell_type": "code",
   "execution_count": null,
   "metadata": {
    "collapsed": true
   },
   "outputs": [],
   "source": [
    "plt.figure(figsize=(60, 60))\n",
    "plt.imshow(low_rank, cmap='gray');"
   ]
  },
  {
   "cell_type": "code",
   "execution_count": null,
   "metadata": {
    "collapsed": true
   },
   "outputs": [],
   "source": [
    "car = stackIMG - low_rank"
   ]
  },
  {
   "cell_type": "code",
   "execution_count": null,
   "metadata": {
    "collapsed": true
   },
   "outputs": [],
   "source": [
    "low_rank = []"
   ]
  },
  {
   "cell_type": "code",
   "execution_count": null,
   "metadata": {},
   "outputs": [],
   "source": [
    "plt.figure(figsize=(120, 120))\n",
    "plt.axis('off')\n",
    "halfIndex = int(car.shape[0]/2)\n",
    "plt.imshow(car[halfIndex:, :], cmap='gray');"
   ]
  },
  {
   "cell_type": "markdown",
   "metadata": {},
   "source": [
    "car matrix"
   ]
  },
  {
   "cell_type": "code",
   "execution_count": null,
   "metadata": {
    "collapsed": true
   },
   "outputs": [],
   "source": [
    "plt.figure(figsize=(60, 60))\n",
    "plt.imshow(car, cmap='gray');"
   ]
  },
  {
   "cell_type": "code",
   "execution_count": null,
   "metadata": {},
   "outputs": [],
   "source": [
    "plt.axis('off')\n",
    "plt.imshow(np.reshape(car[:, 1400], dims), cmap='gray');"
   ]
  },
  {
   "cell_type": "markdown",
   "metadata": {},
   "source": [
    "# Evaluation 2"
   ]
  },
  {
   "cell_type": "markdown",
   "metadata": {},
   "source": [
    "get ground truth images"
   ]
  },
  {
   "cell_type": "code",
   "execution_count": null,
   "metadata": {
    "collapsed": true
   },
   "outputs": [],
   "source": [
    "truth = []\n",
    "for imgName in range(1,1500):\n",
    "    temp = scipy.misc.imresize(rgb2gray(np.array(Image.open(\"./dataset/video2/truth/\"+str(imgName)+\".png\"))), scale)\n",
    "    truth.append(temp)\n",
    "truth[0].shape"
   ]
  },
  {
   "cell_type": "code",
   "execution_count": null,
   "metadata": {},
   "outputs": [],
   "source": [
    "car_eval = car.reshape(dims + (-1,))\n",
    "car.shape, car_eval.shape"
   ]
  },
  {
   "cell_type": "markdown",
   "metadata": {},
   "source": [
    "turn all images into black and white"
   ]
  },
  {
   "cell_type": "code",
   "execution_count": null,
   "metadata": {
    "scrolled": true
   },
   "outputs": [],
   "source": [
    "newCarEval = []\n",
    "for i in range(0,car_eval.shape[-1]):\n",
    "    temp = car_eval[..., i]\n",
    "    newCarEval.append(getCar2(temp))\n",
    "#car_eval = []\n",
    "temp = []\n",
    "#truth = []\n",
    "#car = []\n",
    "newCarEval = np.array(newCarEval)\n",
    "plt.axis(\"off\")\n",
    "plt.imshow(newCarEval[750, ...], cmap='gray')\n",
    "newCarEval.shape"
   ]
  },
  {
   "cell_type": "code",
   "execution_count": null,
   "metadata": {
    "collapsed": true,
    "scrolled": true
   },
   "outputs": [],
   "source": [
    "diceCoef(truth, newCarEval)"
   ]
  },
  {
   "cell_type": "markdown",
   "metadata": {},
   "source": [
    "make black and white video"
   ]
  },
  {
   "cell_type": "code",
   "execution_count": null,
   "metadata": {
    "scrolled": false
   },
   "outputs": [],
   "source": [
    "makeVideoFromImgs('video2_black_white', newCarEval, firstAsTime=True)"
   ]
  },
  {
   "cell_type": "code",
   "execution_count": null,
   "metadata": {},
   "outputs": [],
   "source": [
    "#for scale in [100]:\n",
    "for scale in [10,25,50,75,100]:\n",
    "    fps = 50\n",
    "    original_width = imgs[0].shape[0]\n",
    "    original_height = imgs[0].shape[1]\n",
    "    dims = (int(original_width * scale / 100), int(original_height * scale / 100))\n",
    "    stackIMG = create_data_matrix_from_images(imgs, scale)\n",
    "    stackIMG = stackIMG.astype(float)\n",
    "    truth = []\n",
    "    for imgName in range(1,1500):\n",
    "        temp = scipy.misc.imresize(rgb2gray(np.array(Image.open(\"./dataset/video2/truth/\"+str(imgName)+\".png\"))), scale)\n",
    "        truth.append(temp)\n",
    "    print(dims)\n",
    "    print(\"______________________________________________\")\n",
    "    for kk in range(3,8):\n",
    "        U, Sigma, Vt = svds(stackIMG, k=kk)\n",
    "        low_rank = U @ np.diag(Sigma) @ Vt\n",
    "        U = []\n",
    "        Sigma = []\n",
    "        Vt = []\n",
    "        car = stackIMG - low_rank\n",
    "        low_rank = []\n",
    "        car_eval = car.reshape(dims + (-1,))\n",
    "        car = []\n",
    "        newCarEval = []\n",
    "        for i in range(0,car_eval.shape[-1]):\n",
    "            temp = car_eval[..., i]\n",
    "            newCarEval.append(getCar2(temp))\n",
    "        car_eval = []\n",
    "        temp = []\n",
    "        newCarEval = np.array(newCarEval)\n",
    "        print(diceCoef(truth, newCarEval))"
   ]
  },
  {
   "cell_type": "markdown",
   "metadata": {},
   "source": [
    "# Make Video 2"
   ]
  },
  {
   "cell_type": "code",
   "execution_count": null,
   "metadata": {
    "scrolled": true
   },
   "outputs": [],
   "source": [
    "car_frames = car.reshape(dims + (-1,))\n",
    "car_frames.shape"
   ]
  },
  {
   "cell_type": "code",
   "execution_count": null,
   "metadata": {},
   "outputs": [],
   "source": [
    "videoName = 'video2'\n",
    "makeVideoFromImgs(videoName, car_frames, firstAsTime=False)"
   ]
  },
  {
   "cell_type": "code",
   "execution_count": null,
   "metadata": {
    "collapsed": true
   },
   "outputs": [],
   "source": [
    "video1 = mpe.VideoFileClip(\"./video1.mp4\")\n",
    "video1.ipython_display(width=500)"
   ]
  },
  {
   "cell_type": "markdown",
   "metadata": {},
   "source": [
    "### Reference\n",
    "- https://zulko.github.io/moviepy/getting_started/working_with_matplotlib.html"
   ]
  }
 ],
 "metadata": {
  "kernelspec": {
   "display_name": "Python 3",
   "language": "python",
   "name": "python3"
  },
  "language_info": {
   "codemirror_mode": {
    "name": "ipython",
    "version": 3
   },
   "file_extension": ".py",
   "mimetype": "text/x-python",
   "name": "python",
   "nbconvert_exporter": "python",
   "pygments_lexer": "ipython3",
   "version": "3.6.1"
  }
 },
 "nbformat": 4,
 "nbformat_minor": 2
}
