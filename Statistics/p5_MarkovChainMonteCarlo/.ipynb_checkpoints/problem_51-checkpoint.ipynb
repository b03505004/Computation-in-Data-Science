{
 "cells": [
  {
   "cell_type": "code",
   "execution_count": 1,
   "metadata": {
    "collapsed": true
   },
   "outputs": [],
   "source": [
    "import numpy as np\n",
    "import copy"
   ]
  },
  {
   "cell_type": "code",
   "execution_count": 27,
   "metadata": {
    "collapsed": true
   },
   "outputs": [],
   "source": [
    "text = []\n",
    "file =open('domain.txt', 'r')\n",
    "for i in file.read():\n",
    "    if (ord(i) is 32 or ord(i)>=97):\n",
    "        text.append(i)"
   ]
  },
  {
   "cell_type": "code",
   "execution_count": 28,
   "metadata": {
    "collapsed": true
   },
   "outputs": [],
   "source": [
    "for i in range(len(text)):\n",
    "    text[i]=text[i].lower()"
   ]
  },
  {
   "cell_type": "code",
   "execution_count": 29,
   "metadata": {
    "collapsed": true
   },
   "outputs": [],
   "source": [
    "def change(x):\n",
    "    if (ord(x) is 32):\n",
    "        return 26\n",
    "    else:\n",
    "        return ord(x)-97"
   ]
  },
  {
   "cell_type": "code",
   "execution_count": 30,
   "metadata": {
    "collapsed": true
   },
   "outputs": [],
   "source": [
    "def changeback(x):\n",
    "    if (x==26):\n",
    "        return ' '\n",
    "    else:\n",
    "        return chr(x+97)"
   ]
  },
  {
   "cell_type": "code",
   "execution_count": 31,
   "metadata": {
    "collapsed": true
   },
   "outputs": [],
   "source": [
    "count=np.zeros([27,27])+1E-4\n",
    "for j in range(27):\n",
    "    for k in range(27):\n",
    "        for i in range(len(text)-1):\n",
    "            if (change(text[i])==j and change(text[i+1])==k):\n",
    "                count[j,k]=count[j,k]+1"
   ]
  },
  {
   "cell_type": "code",
   "execution_count": 33,
   "metadata": {
    "collapsed": true
   },
   "outputs": [],
   "source": [
    "problem =[]\n",
    "file =open('decode.txt', 'r')\n",
    "for i in file.read():\n",
    "    problem.append(i)"
   ]
  },
  {
   "cell_type": "code",
   "execution_count": 34,
   "metadata": {
    "collapsed": true
   },
   "outputs": [],
   "source": [
    "permutation=[i for i in range(27)]"
   ]
  },
  {
   "cell_type": "code",
   "execution_count": 35,
   "metadata": {
    "collapsed": true
   },
   "outputs": [],
   "source": [
    "def likelihood(permutation):\n",
    "    n=len(text)\n",
    "    c=0\n",
    "    for i in range(len(problem)-1):\n",
    "        c=c+np.log(count[permutation[change(problem[i])], permutation[change(problem[i+1])]]/n)\n",
    "    return c"
   ]
  },
  {
   "cell_type": "code",
   "execution_count": 36,
   "metadata": {
    "collapsed": true
   },
   "outputs": [],
   "source": [
    "for i in range(10000):\n",
    "    permutation_1=permutation.copy()\n",
    "    a=np.random.randint(0,27,2)\n",
    "    temp=permutation_1[a[0]]\n",
    "    permutation_1[a[0]]=permutation_1[a[1]]\n",
    "    permutation_1[a[1]]=temp\n",
    "    if (likelihood(permutation_1)>=likelihood(permutation)):\n",
    "        permutation=permutation_1.copy()\n",
    "    else:\n",
    "        if (np.random.rand(1)<np.exp(likelihood(permutation_1)-likelihood(permutation))):\n",
    "            permutation=permutation_1.copy()"
   ]
  },
  {
   "cell_type": "code",
   "execution_count": 37,
   "metadata": {
    "collapsed": true
   },
   "outputs": [],
   "source": [
    "ans=''\n",
    "problem_1=np.array(['a']).repeat(len(problem))\n",
    "for i in range(len(problem)):\n",
    "    problem_1[i]=changeback(permutation[change(problem[i])])\n",
    "    ans=ans+problem_1[i]"
   ]
  },
  {
   "cell_type": "code",
   "execution_count": 38,
   "metadata": {},
   "outputs": [
    {
     "name": "stdout",
     "output_type": "stream",
     "text": [
      "congratulation you hake solked this broplem show these words to me with your monte carlo codes if you are the first one in the class your grade will pe a blus for the statistical combuting bart no matter how padly you do in the final evam\n"
     ]
    }
   ],
   "source": [
    "print(ans)"
   ]
  },
  {
   "cell_type": "code",
   "execution_count": 14,
   "metadata": {},
   "outputs": [
    {
     "name": "stdout",
     "output_type": "stream",
     "text": [
      "congratulation you have solved this problem show these words to me with your monte carlo codes if you are the first one in the class your grade will be a plus for the statistical computing part no matter how badly you do in the final exam\n"
     ]
    }
   ],
   "source": [
    "print(\"congratulation you have solved this problem show these words to me with your monte carlo codes if you are the first one in the class your grade will be a plus for the statistical computing part no matter how badly you do in the final exam\")"
   ]
  },
  {
   "cell_type": "code",
   "execution_count": null,
   "metadata": {
    "collapsed": true
   },
   "outputs": [],
   "source": []
  }
 ],
 "metadata": {
  "kernelspec": {
   "display_name": "Python 3",
   "language": "python",
   "name": "python3"
  },
  "language_info": {
   "codemirror_mode": {
    "name": "ipython",
    "version": 3
   },
   "file_extension": ".py",
   "mimetype": "text/x-python",
   "name": "python",
   "nbconvert_exporter": "python",
   "pygments_lexer": "ipython3",
   "version": "3.6.1"
  }
 },
 "nbformat": 4,
 "nbformat_minor": 2
}
